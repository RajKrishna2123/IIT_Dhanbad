{
 "cells": [
  {
   "cell_type": "code",
   "execution_count": 2,
   "metadata": {},
   "outputs": [],
   "source": [
    "import cv2\n",
    "import numpy as np\n",
    "\n",
    "def sobel_edge_detection(image):\n",
    "    # Convert the image to grayscale\n",
    "    gray_image = cv2.cvtColor(image, cv2.COLOR_BGR2GRAY)\n",
    "    \n",
    "    # Apply Sobel operators to detect gradients\n",
    "    sobel_x = cv2.Sobel(gray_image, cv2.CV_64F, 1, 0, ksize=3)\n",
    "    sobel_y = cv2.Sobel(gray_image, cv2.CV_64F, 0, 1, ksize=3)\n",
    "\n",
    "    # Calculate the magnitude of gradients\n",
    "    edge_magnitude = np.sqrt(sobel_x**2 + sobel_y**2)\n",
    "    \n",
    "    # Normalize the edge magnitude to 0-255\n",
    "    edge_magnitude = np.uint8(edge_magnitude / np.max(edge_magnitude) * 255)\n",
    "    \n",
    "    # Threshold the edge magnitude to obtain binary edges\n",
    "    _, binary_edges = cv2.threshold(edge_magnitude, 100, 255, cv2.THRESH_BINARY)\n",
    "    \n",
    "    return binary_edges\n",
    "\n",
    "if __name__ == \"__main__\":\n",
    "    # Load an image (replace 'your_image_path.jpg' with the actual image path)\n",
    "    image = cv2.imread('1.jpg')\n",
    "    \n",
    "    # Apply Sobel edge detection\n",
    "    edges = sobel_edge_detection(image)\n",
    "    \n",
    "    # Map the results\n",
    "    mapped_image = cv2.bitwise_and(image, image, mask=edges)\n",
    "    \n",
    "    # Display the original image and the mapped edges side by side\n",
    "    combined_image = np.hstack((image, mapped_image))\n",
    "    cv2.imshow(\"Original Image vs Mapped Edges\", combined_image)\n",
    "    \n",
    "    cv2.waitKey(0)\n",
    "    cv2.destroyAllWindows()"
   ]
  },
  {
   "cell_type": "code",
   "execution_count": 6,
   "metadata": {},
   "outputs": [],
   "source": [
    "import tensorflow as tf\n",
    "from PIL import Image\n",
    "image_bytes = tf.io.read_file(\"1.jpg\")\n",
    "image = tf.image.decode_image(image_bytes)\n",
    "image = tf.cast(image, tf.float32)\n",
    "image = tf.expand_dims(image, 0)"
   ]
  },
  {
   "cell_type": "code",
   "execution_count": 7,
   "metadata": {},
   "outputs": [],
   "source": [
    "image = tf.random.uniform(\n",
    "  maxval=255, shape=[1, 28, 28, 3], dtype=tf.float32)\n",
    "sobel = tf.image.sobel_edges(image)\n",
    "sobel_y = np.asarray(sobel[0, :, :, :, 0]) # sobel in y-direction\n",
    "sobel_x = np.asarray(sobel[0, :, :, :, 1]) # sobel in x-direction"
   ]
  },
  {
   "cell_type": "code",
   "execution_count": 8,
   "metadata": {},
   "outputs": [],
   "source": [
    "# Display edge maps for the first channel (at index 0)\n",
    "Image.fromarray(sobel_y[..., 0] / 4 + 0.5).show()\n",
    "Image.fromarray(sobel_x[..., 0] / 4 + 0.5).show()"
   ]
  },
  {
   "cell_type": "code",
   "execution_count": null,
   "metadata": {},
   "outputs": [],
   "source": []
  }
 ],
 "metadata": {
  "kernelspec": {
   "display_name": "FLA",
   "language": "python",
   "name": "fla"
  },
  "language_info": {
   "codemirror_mode": {
    "name": "ipython",
    "version": 3
   },
   "file_extension": ".py",
   "mimetype": "text/x-python",
   "name": "python",
   "nbconvert_exporter": "python",
   "pygments_lexer": "ipython3",
   "version": "3.10.11"
  },
  "orig_nbformat": 4
 },
 "nbformat": 4,
 "nbformat_minor": 2
}
